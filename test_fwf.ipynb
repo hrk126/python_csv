{
 "cells": [
  {
   "cell_type": "code",
   "execution_count": 1,
   "id": "stretch-sleeping",
   "metadata": {},
   "outputs": [],
   "source": [
    "import pandas as pd\n",
    "import unicodedata"
   ]
  },
  {
   "cell_type": "code",
   "execution_count": 2,
   "id": "latin-earth",
   "metadata": {},
   "outputs": [],
   "source": [
    "def add_space_if_fw(text):\n",
    "    if unicodedata.east_asian_width(text) in 'FWA':\n",
    "        return text + ' '\n",
    "    else:\n",
    "        return text"
   ]
  },
  {
   "cell_type": "code",
   "execution_count": 3,
   "id": "019b94fe",
   "metadata": {},
   "outputs": [],
   "source": [
    "def master2df(file_name, widths, names, usecols, fn):\n",
    "\n",
    "    with open(file_name, 'r', encoding='cp932') as f:\n",
    "        content = f.read()\n",
    "\n",
    "    result = ''\n",
    "\n",
    "    for ch in content:\n",
    "        result += add_space_if_fw(ch)\n",
    "\n",
    "    file_name_changed = f'changed_{file_name}.csv'\n",
    "\n",
    "    with open(file_name_changed, mode='w', encoding='UTF-8') as f:\n",
    "        f.write(result)\n",
    "    \n",
    "    df = pd.read_fwf(file_name_changed, widths=widths, names=names, usecols=usecols, encoding='UTF-8', dtype = str).fillna(fn)\n",
    "\n",
    "    if file_name == 'USROUT':\n",
    "        df['sup_name'] = df['sup_name'].str.strip()\n",
    "    elif file_name == 'KANOUT':\n",
    "        df = df.astype({'num': int, 'k_num': int, 'y_num': int, 'h_num': int})\n",
    "        df['seban'] = df['seban'].str.strip()\n",
    "        df['hinban'] = df['hinban'].str.strip()\n",
    "        df['store'] = df['store'].str.strip()\n",
    "        df['box'] = df['box'].str.strip()\n",
    "        \n",
    "    return df"
   ]
  },
  {
   "cell_type": "code",
   "execution_count": 10,
   "id": "89c4b01b",
   "metadata": {},
   "outputs": [],
   "source": [
    "def ruiout2df():\n",
    "    file_name = 'RUIOUT'\n",
    "    d = 3\n",
    "\n",
    "    with open(file_name, 'r', encoding='cp932') as f:\n",
    "        content = ''\n",
    "        while True:\n",
    "            line = f.readline()\n",
    "            if line == '':\n",
    "                break\n",
    "            b_line = line[:5]\n",
    "            st_line = d * 40 + 77 + 1\n",
    "            a_line = line[-st_line:-78]\n",
    "            content += b_line + a_line + '\\n'\n",
    "\n",
    "    file_name_changed = f'changed_{file_name}.csv'\n",
    "\n",
    "    with open(file_name_changed, mode='w', encoding='UTF-8') as f:\n",
    "        f.write(content)\n",
    "\n",
    "    widths = [5]\n",
    "    names = ['ad']\n",
    "    meisai_width = [6, 2, 1, 6, 2, 4, 5, 3, 6, 5]\n",
    "    usecols = [0]\n",
    "    m_cols = [1, 2, 3, 4, 5, 6, 7, 8, 9]\n",
    "    astype = {}\n",
    "    for i in range(d):\n",
    "        widths += meisai_width\n",
    "        m_name = [f'n_bi{i}', f'n_bin{i}', f'h_kubun{i}', f'h_bi{i}', f'h_bin{i}', f'h_jikan{i}', f'noban{i}', f'hako{i}', f'nonyu{i}', f'aki{i}']\n",
    "        names += m_name\n",
    "        usecols += [j + 10 * i for j in m_cols]\n",
    "        astype[f'hako{i}'] = int\n",
    "        astype[f'nonyu{i}'] = int\n",
    "\n",
    "    df = pd.read_fwf(file_name_changed, widths=widths, names=names, usecols=usecols, encoding='UTF-8', dtype = str).fillna(0)\n",
    "    df = df.astype(astype)\n",
    "    return df"
   ]
  },
  {
   "cell_type": "code",
   "execution_count": null,
   "id": "quality-rehabilitation",
   "metadata": {},
   "outputs": [],
   "source": [
    "#仕入先マスタ\n",
    "file_name = 'USROUT'\n",
    "widths = [6, 5, 20]\n",
    "names = ['aki', 'sup_code', 'sup_name']\n",
    "usecols= [1, 2]\n",
    "fn = ''\n",
    "df = master2df(file_name, widths, names, usecols, fn)\n",
    "df[df['sup_code'] != '']\n",
    "\n",
    "\n",
    "#マスタ\n",
    "# file_name = 'KANOUT'\n",
    "# widths = [1, 5, 1, 1, 5, 2, 4, 14, 5, 8, 5, 1, 10, 4, 5, 2, 1, 3, 6, 2, 4, 8, 5, 6, 4, 8, 4, 3, 4, 4, 8, 4, 4, 4, 5, 5, 5, 5, 5, 5, 8, 1, 1, 2, 1, 8, 10, 8, 12, 1, 3, 1, 9]\n",
    "# names = ['aki', 'ad', 'kaitei', 'cp', 'sup_code', 'ukeire', 'seban', 'hinban', 'num', 'store', 'sikyu', 's_kubun', 'line_add', 'aki2', 'shuyoseki', 'tanto', 'iro', 'pocket', 'cycle', 'aki3', 'setteimai', 'setteiryo', 'mai_bin', 'ryo_bin', 'zen_mai', 'zen_ryo', 'k_num', 'y_num', 's_num', 'h_num', 'sohat', 'kinko', 'hakko', 'hakkosumi', 'b_add', 'a_add', 'gai_1', 'gai_2', 'gai_3', 'siharai', 'kigo', 'b_kubun', 'u_kubun', 'mark', 'mark_col', 'box', 'kose', 's_okiba', 'comment', 'sys_kubun', 'shukkaba', 'n_kubun', 'aki4']\n",
    "# usecols= [1, 4, 6, 7, 8, 9, 26, 27, 29, 45]\n",
    "# fn = {\n",
    "#         'num': 0,\n",
    "#         'k_num': 0,\n",
    "#         'y_num': 0,\n",
    "#         'h_num': 0,\n",
    "#         'ad': '',\n",
    "#         'sup_code': '',\n",
    "#         'seban': '',\n",
    "#         'hinban': '',\n",
    "#         'store': '',\n",
    "#         'box': ''\n",
    "#     }\n",
    "# df.isnull().any()"
   ]
  },
  {
   "cell_type": "code",
   "execution_count": 1,
   "id": "secondary-scroll",
   "metadata": {},
   "outputs": [],
   "source": [
    "import sqlite3"
   ]
  },
  {
   "cell_type": "code",
   "execution_count": 2,
   "id": "opening-reflection",
   "metadata": {},
   "outputs": [],
   "source": [
    "con = sqlite3.connect('test.db')\n",
    "cur = con.cursor()"
   ]
  },
  {
   "cell_type": "code",
   "execution_count": 6,
   "id": "fallen-insurance",
   "metadata": {},
   "outputs": [
    {
     "data": {
      "text/plain": [
       "<sqlite3.Cursor at 0x1a36e162d50>"
      ]
     },
     "execution_count": 6,
     "metadata": {},
     "output_type": "execute_result"
    }
   ],
   "source": [
    "# テーブル削除\n",
    "cur.execute(\n",
    "    'DROP TABLE IF EXISTS rui'\n",
    ")"
   ]
  },
  {
   "cell_type": "code",
   "execution_count": null,
   "id": "f1838bf9",
   "metadata": {},
   "outputs": [],
   "source": [
    "# マスター作成\n",
    "cur.execute(\n",
    "    '''\n",
    "    CREATE TABLE master (\n",
    "        id INTEGER PRIMARY KEY, \n",
    "        ad TEXT, \n",
    "        sup_code TEXT, \n",
    "        seban TEXT, \n",
    "        hinban TEXT, \n",
    "        num INTEGER, \n",
    "        store TEXT, \n",
    "        k_num INTEGER, \n",
    "        y_num INTEGER, \n",
    "        h_num INTEGER,\n",
    "        box TEXT)\n",
    "    '''\n",
    ")\t\t\t\t\t\t"
   ]
  },
  {
   "cell_type": "code",
   "execution_count": null,
   "id": "07e54b3c",
   "metadata": {},
   "outputs": [],
   "source": [
    "# 集欠マスター作成\n",
    "cur.execute(\n",
    "    '''\n",
    "    CREATE TABLE shuketu (\n",
    "        id INTEGER PRIMARY KEY, \n",
    "        ad TEXT, \n",
    "        num INTEGER,\n",
    "        num_all INTEGER, \n",
    "        cust_name TEXT, \n",
    "        due_date TEXT, \n",
    "        tonyu INTEGER,\n",
    "        inventory INTEGER, \n",
    "        afure INTEGER, \n",
    "        shuketubi TEXT, \n",
    "        bin INTEGER,\n",
    "        comment TEXT)\n",
    "    '''\n",
    ")\t\t"
   ]
  },
  {
   "cell_type": "code",
   "execution_count": null,
   "id": "2b6fbe26",
   "metadata": {},
   "outputs": [],
   "source": [
    "# 仕入先マスター作成\n",
    "cur.execute(\n",
    "    '''\n",
    "    CREATE TABLE sup (\n",
    "        id INTEGER PRIMARY KEY, \n",
    "        sup_code TEXT,\n",
    "        sup_name TEXT)\n",
    "    '''\n",
    ")\t\t"
   ]
  },
  {
   "cell_type": "code",
   "execution_count": null,
   "id": "a7b30ab4",
   "metadata": {},
   "outputs": [],
   "source": [
    "# 累積マスター作成\n",
    "# cur.execute(\n",
    "#     '''\n",
    "#     CREATE TABLE rui (\n",
    "#         id INTEGER PRIMARY KEY, \n",
    "#         ad TEXT,\n",
    "#         n_bi0 TEXT,\n",
    "#         n_bin0 TEXT,\n",
    "#         h_kubun0 TEXT,\n",
    "#         h_bi0 TEXT,\n",
    "#         h_bin0 TEXT,\n",
    "#         h_jikan0 TEXT,\n",
    "#         noban0 TEXT,\n",
    "#         hako0 INTEGER,\n",
    "#         nonyu0 INTEGER,\n",
    "#         n_bi1 TEXT,\n",
    "#         n_bin1 TEXT,\n",
    "#         h_kubun1 TEXT,\n",
    "#         h_bi1 TEXT,\n",
    "#         h_bin1 TEXT,\n",
    "#         h_jikan1 TEXT,\n",
    "#         noban1 TEXT,\n",
    "#         hako1 INTEGER,\n",
    "#         nonyu1 INTEGER,\n",
    "#         n_bi2 TEXT,\n",
    "#         n_bin2 TEXT,\n",
    "#         h_kubun2 TEXT,\n",
    "#         h_bi2 TEXT,\n",
    "#         h_bin2 TEXT,\n",
    "#         h_jikan2 TEXT,\n",
    "#         noban2 TEXT,\n",
    "#         hako2 INTEGER,\n",
    "#         nonyu2 INTEGER\n",
    "#         )\n",
    "#     '''\n",
    "# )"
   ]
  },
  {
   "cell_type": "code",
   "execution_count": 7,
   "id": "bddd6508",
   "metadata": {},
   "outputs": [
    {
     "data": {
      "text/plain": [
       "<sqlite3.Cursor at 0x1a36e162d50>"
      ]
     },
     "execution_count": 7,
     "metadata": {},
     "output_type": "execute_result"
    }
   ],
   "source": [
    "# 累積マスター作成\n",
    "s = ''\n",
    "for i in range(3):\n",
    "    s += f'''\n",
    "        n_bi{i} TEXT,\n",
    "        n_bin{i} TEXT,\n",
    "        h_kubun{i} TEXT,\n",
    "        h_bi{i} TEXT,\n",
    "        h_bin{i} TEXT,\n",
    "        h_jikan{i} TEXT,\n",
    "        noban{i} TEXT,\n",
    "        hako{i} INTEGER,\n",
    "        nonyu{i} INTEGER,'''\n",
    "s = s[:-1]\n",
    "ss = f'''\n",
    "    CREATE TABLE rui (\n",
    "        id INTEGER PRIMARY KEY, \n",
    "        ad TEXT,{s}\n",
    "    )\n",
    "    '''\n",
    "cur.execute(ss)"
   ]
  },
  {
   "cell_type": "code",
   "execution_count": 17,
   "id": "d9699fbe",
   "metadata": {},
   "outputs": [
    {
     "data": {
      "text/plain": [
       "40019"
      ]
     },
     "execution_count": 17,
     "metadata": {},
     "output_type": "execute_result"
    }
   ],
   "source": [
    "# マスター→DB\n",
    "# df.to_sql('master', con, if_exists='append', index=False)"
   ]
  },
  {
   "cell_type": "code",
   "execution_count": 9,
   "id": "fa1ded75",
   "metadata": {},
   "outputs": [
    {
     "data": {
      "text/plain": [
       "596"
      ]
     },
     "execution_count": 9,
     "metadata": {},
     "output_type": "execute_result"
    }
   ],
   "source": [
    "# 仕入先マスター→DB\n",
    "# df.to_sql('sup', con, if_exists='append', index=False)"
   ]
  },
  {
   "cell_type": "code",
   "execution_count": 11,
   "id": "af938378",
   "metadata": {},
   "outputs": [
    {
     "data": {
      "text/plain": [
       "11"
      ]
     },
     "execution_count": 11,
     "metadata": {},
     "output_type": "execute_result"
    }
   ],
   "source": [
    "# 累積マスター→DB\n",
    "df = ruiout2df()\n",
    "df.to_sql('rui', con, if_exists='append', index=False)"
   ]
  },
  {
   "cell_type": "code",
   "execution_count": null,
   "id": "de0dc836",
   "metadata": {},
   "outputs": [],
   "source": [
    "cur.execute(\n",
    "    \"select * from sqlite_master where type='table' and name='master'\"\n",
    ")\n",
    "tables = cur.fetchall()\n",
    "tables"
   ]
  },
  {
   "cell_type": "code",
   "execution_count": null,
   "id": "polish-wrestling",
   "metadata": {},
   "outputs": [],
   "source": [
    "# 全テーブル検索\n",
    "cur.execute(\n",
    "    \"SELECT NAME FROM sqlite_master WHERE type='table'\"\n",
    ")\n",
    "tables = cur.fetchall()\n",
    "tables"
   ]
  },
  {
   "cell_type": "code",
   "execution_count": null,
   "id": "93f143c8",
   "metadata": {},
   "outputs": [],
   "source": [
    "cur.execute(\n",
    "    \"SELECT * FROM master WHERE hinban like '82715%'\"\n",
    ")\n",
    "tables = cur.fetchall()\n",
    "tables"
   ]
  },
  {
   "cell_type": "code",
   "execution_count": null,
   "id": "936a5b14",
   "metadata": {},
   "outputs": [],
   "source": [
    "cur.execute(\n",
    "    \"SELECT * FROM rui WHERE id = 3\"\n",
    ")\n",
    "tables = cur.fetchall()\n",
    "tables"
   ]
  },
  {
   "cell_type": "code",
   "execution_count": null,
   "id": "490f7414",
   "metadata": {},
   "outputs": [],
   "source": [
    "cur.execute(\n",
    "    '''\n",
    "    INSERT INTO\n",
    "\t    shuketu\n",
    "    VALUES\n",
    "        (1,\n",
    "        '00011',\n",
    "        1,\n",
    "        10,\n",
    "        'aaa',\n",
    "        '',\n",
    "        2,\n",
    "        1,\n",
    "        1,\n",
    "        date('now', 'localtime'),\n",
    "        1,\n",
    "        '')\n",
    "    '''\n",
    ")"
   ]
  },
  {
   "cell_type": "code",
   "execution_count": 18,
   "id": "trained-mason",
   "metadata": {},
   "outputs": [],
   "source": [
    "con.close()"
   ]
  },
  {
   "cell_type": "code",
   "execution_count": 7,
   "id": "484b6c21",
   "metadata": {},
   "outputs": [],
   "source": [
    "# モデル設定\n",
    "from sqlalchemy import create_engine\n",
    "from sqlalchemy.ext.declarative import declarative_base\n",
    "from sqlalchemy.orm import sessionmaker\n",
    "from sqlalchemy.orm import Session\n",
    "import datetime\n",
    "from sqlalchemy import Column, ForeignKey, Integer, String, ForeignKey\n",
    "from sqlalchemy.orm import relationship\n",
    "\n",
    "SQLALCHEMY_DATABASE_URL = 'sqlite:///test.db'\n",
    "\n",
    "\n",
    "engine = create_engine(\n",
    "  SQLALCHEMY_DATABASE_URL,\n",
    "  connect_args={'check_same_thread': False}\n",
    ")\n",
    "\n",
    "SessionLocal = sessionmaker(autocommit=False, autoflush=False, bind=engine)\n",
    "Base = declarative_base()\n",
    "\n",
    "class Master(Base):\n",
    "  __tablename__ = 'master'\n",
    "  id = Column(Integer, primary_key=True, autoincrement=True, index=True)\n",
    "  ad = Column(String, unique=True, index=True)\n",
    "  sup_code = Column(String, index=True)\n",
    "  seban = Column(String, index=True)\n",
    "  hinban = Column(String, index=True)\n",
    "  num = Column(Integer, index=True)\n",
    "  store = Column(String, index=True)\n",
    "  k_num = Column(Integer, index=True)\n",
    "  y_num = Column(Integer, index=True)\n",
    "  h_num = Column(Integer, index=True)\n",
    "  shuketu = relationship('Shuketu', backref=\"master\")\n",
    "\n",
    "class Shuketu(Base):\n",
    "  __tablename__ = 'shuketu'\n",
    "  id = Column(Integer, primary_key=True, autoincrement=True, index=True)\n",
    "  ad = Column(String, ForeignKey('master.ad'), index=True)\n",
    "  num = Column(Integer, index=True)\n",
    "  num_all = Column(Integer, index=True)\n",
    "  cust_name = Column(String, index=True)\n",
    "  due_date = Column(String, index=True)\n",
    "  tonyu = Column(Integer, index=True)\n",
    "  inventory = Column(Integer, index=True)\n",
    "  afure = Column(Integer, index=True)\n",
    "  shuketubi = Column(String, index=True)\n",
    "  bin = Column(Integer, index=True)\n",
    "  comment = Column(String, index=True)\n",
    "  "
   ]
  },
  {
   "cell_type": "code",
   "execution_count": 8,
   "id": "1db8ed6b",
   "metadata": {},
   "outputs": [],
   "source": [
    "# create\n",
    "# def create_item(db, args):\n",
    "#     item = Master(\n",
    "#         ad=args['ad'], \n",
    "#         sup_code=args['sup_code'], \n",
    "#         seban=args['seban'], \n",
    "#         hinban=args['hinban'], \n",
    "#         num=args['num'], \n",
    "#         store=args['store'], \n",
    "#         k_num=args['k_num'], \n",
    "#         y_num=args['y_num'], \n",
    "#         h_num=args['h_num'])\n",
    "#     db.add(item)\n",
    "#     db.commit()\n",
    "#     db.refresh(item)\n",
    "#     return item\n",
    "\n",
    "def create_item(db, args):\n",
    "\n",
    "    item = Shuketu(\n",
    "        ad=args['ad'],\n",
    "        num=args['num'],\n",
    "        num_all=args['num_all'],\n",
    "        cust_name=args['cust_name'],\n",
    "        due_date=args['due_date'],\n",
    "        tonyu=args['tonyu'],\n",
    "        inventory=args['inventory'],\n",
    "        afure=args['afure'],\n",
    "        shuketubi=args['shuketubi'],\n",
    "        bin=args['bin'],\n",
    "        comment=args['comment'],\n",
    "    )\n",
    "    db.add(item)\n",
    "    db.commit()\n",
    "    db.refresh(item)\n",
    "    return item\n",
    "\n",
    "\n",
    "# args = {}\n",
    "# args['ad'] = '00001'\n",
    "# args['sup_code'] = '00100'\n",
    "# args['seban'] = '010'\n",
    "# args['hinban'] = '12345-67890-00'\n",
    "# args['num'] = 100\n",
    "# args['store'] = 'A01-01-1'\n",
    "# args['k_num'] = 1\n",
    "# args['y_num'] = 1 \n",
    "# args['h_num'] = 1\n",
    "\n",
    "args = {}\n",
    "args['ad']= '00010'\n",
    "args['num']= 1\n",
    "args['num_all']= 10\n",
    "args['cust_name']= 'aaa'\n",
    "args['due_date']= ''\n",
    "args['tonyu']= 2\n",
    "args['inventory']= 1\n",
    "args['afure']= 1\n",
    "args['shuketubi']= datetime.date.today().isoformat()\n",
    "args['bin']= 1\n",
    "args['comment']= ''\n",
    "\n",
    "\n",
    "db = SessionLocal()\n",
    "item = create_item(db, args)    \n",
    "# print(item.id, item.ad, item.sup_code, item.seban, item.hinban, item.num, item.store, item.k_num, item.y_num, item.h_num)\n",
    "db.close()"
   ]
  },
  {
   "cell_type": "code",
   "execution_count": null,
   "id": "5dbb51f1",
   "metadata": {},
   "outputs": [],
   "source": [
    "# read\n",
    "# def read_item(db, ad):\n",
    "#   items = db.query(Master).filter(Master.ad == ad).all()\n",
    "#   return items\n",
    "\n",
    "def read_item(db, ad):\n",
    "  items = db.query(Shuketu).filter(Shuketu.ad == ad).all()\n",
    "  return items\n",
    "\n",
    "\n",
    "ad = '00010'\n",
    "db = SessionLocal()\n",
    "items = read_item(db, ad)\n",
    "for item in items:\n",
    "    # print(item.id, item.ad, item.sup_code, item.seban, item.hinban, item.num, item.store, item.k_num, item.y_num, item.h_num)\n",
    "    print(item.id, item.ad, item.num, item.num_all, item.cust_name, item.due_date, item.tonyu, item.inventory, item.afure, item.shuketubi, item.bin, item.comment)\n",
    "    print(item.master.hinban)\n",
    "db.close()"
   ]
  },
  {
   "cell_type": "code",
   "execution_count": 13,
   "id": "c1e779b8",
   "metadata": {},
   "outputs": [
    {
     "name": "stdout",
     "output_type": "stream",
     "text": [
      "50000\n"
     ]
    }
   ],
   "source": [
    "# update\n",
    "# def update_item(db, args):\n",
    "#     item = db.query(Master).filter(Master.ad == args['ad']).first()\n",
    "#     item.num = args['num']\n",
    "#     db.commit()\n",
    "#     db.refresh(item)\n",
    "#     return item\n",
    "\n",
    "def update_item(db, args):\n",
    "    item = db.query(Shuketu).filter(Shuketu.id == args['id']).first()\n",
    "    item.num = args['num']\n",
    "    db.commit()\n",
    "    db.refresh(item)\n",
    "    return item\n",
    "\n",
    "args = {}\n",
    "args['id'] = 3\n",
    "args['ad'] = '00001'\n",
    "args['sup_code'] = '00100'\n",
    "args['seban'] = '010'\n",
    "args['hinban'] = '12345-67890-00'\n",
    "args['num'] = 50000\n",
    "args['store'] = 'A01-01-1'\n",
    "args['k_num'] = 1\n",
    "args['y_num'] = 1 \n",
    "args['h_num'] = 1\n",
    "\n",
    "db = SessionLocal()\n",
    "item = update_item(db, args)\n",
    "# print(item.id, item.ad, item.sup_code, item.seban, item.hinban, item.num, item.store, item.k_num, item.y_num, item.h_num)\n",
    "print(item.num)\n",
    "db.close()"
   ]
  },
  {
   "cell_type": "code",
   "execution_count": 15,
   "id": "ebf4bcaf",
   "metadata": {},
   "outputs": [],
   "source": [
    "# delete\n",
    "# def delete_item(db, id):\n",
    "#     item = db.query(Master).filter(Master.id == id).first()\n",
    "#     db.delete(item)\n",
    "#     db.commit()\n",
    "\n",
    "def delete_item(db, id):\n",
    "    item = db.query(Shuketu).filter(Shuketu.id == id).first()\n",
    "    db.delete(item)\n",
    "    db.commit()\n",
    "\n",
    "id = 3\n",
    "\n",
    "db = SessionLocal()\n",
    "delete_item(db, id)\n",
    "db.close()"
   ]
  },
  {
   "cell_type": "code",
   "execution_count": 1,
   "id": "c410f3c1",
   "metadata": {},
   "outputs": [],
   "source": [
    "import re"
   ]
  },
  {
   "cell_type": "code",
   "execution_count": 4,
   "id": "15bdaf89",
   "metadata": {},
   "outputs": [
    {
     "name": "stdout",
     "output_type": "stream",
     "text": [
      "331\n"
     ]
    }
   ],
   "source": [
    "\n",
    "s = 'TP331-セン'\n",
    "m = re.search(r'(TP|RG)(\\d{3})', s)\n",
    "if m:\n",
    "    print(m.group(2))\n"
   ]
  }
 ],
 "metadata": {
  "interpreter": {
   "hash": "a13827de09b59a2233772823bf8a5405d3740b37835f33378bbd58dbc5a83b36"
  },
  "kernelspec": {
   "display_name": "Python 3.9.6 64-bit",
   "language": "python",
   "name": "python3"
  },
  "language_info": {
   "codemirror_mode": {
    "name": "ipython",
    "version": 3
   },
   "file_extension": ".py",
   "mimetype": "text/x-python",
   "name": "python",
   "nbconvert_exporter": "python",
   "pygments_lexer": "ipython3",
   "version": "3.9.6"
  }
 },
 "nbformat": 4,
 "nbformat_minor": 5
}
